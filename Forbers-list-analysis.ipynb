{
 "cells": [
  {
   "cell_type": "markdown",
   "id": "fc1d2959",
   "metadata": {
    "id": "view-in-github",
    "papermill": {
     "duration": 0.024811,
     "end_time": "2022-05-14T11:11:42.715370",
     "exception": false,
     "start_time": "2022-05-14T11:11:42.690559",
     "status": "completed"
    },
    "tags": []
   },
   "source": [
    "<a href=\"https://colab.research.google.com/github/SurajGusain0007/Dataset_Analysis_with_Suraj/blob/main/Forbers_list_2022.ipynb\" target=\"_parent\"><img src=\"https://colab.research.google.com/assets/colab-badge.svg\" alt=\"Open In Colab\"/></a>"
   ]
  },
  {
   "cell_type": "code",
   "execution_count": 1,
   "id": "c3d0d0a1",
   "metadata": {
    "execution": {
     "iopub.execute_input": "2022-05-14T11:11:42.764144Z",
     "iopub.status.busy": "2022-05-14T11:11:42.763540Z",
     "iopub.status.idle": "2022-05-14T11:11:43.863009Z",
     "shell.execute_reply": "2022-05-14T11:11:43.862137Z"
    },
    "id": "WKxpZPOA9NSH",
    "papermill": {
     "duration": 1.126084,
     "end_time": "2022-05-14T11:11:43.865507",
     "exception": false,
     "start_time": "2022-05-14T11:11:42.739423",
     "status": "completed"
    },
    "tags": []
   },
   "outputs": [],
   "source": [
    "#Import libraries\n",
    "import pandas as pd\n",
    "import matplotlib.pyplot as plt\n",
    "import seaborn as sns"
   ]
  },
  {
   "cell_type": "code",
   "execution_count": 2,
   "id": "1590ae78",
   "metadata": {
    "execution": {
     "iopub.execute_input": "2022-05-14T11:11:43.913166Z",
     "iopub.status.busy": "2022-05-14T11:11:43.912621Z",
     "iopub.status.idle": "2022-05-14T11:11:43.963329Z",
     "shell.execute_reply": "2022-05-14T11:11:43.962511Z"
    },
    "id": "iVMzaqZt9pY5",
    "outputId": "5cfd531c-c9cb-48f8-ae39-388b1a245003",
    "papermill": {
     "duration": 0.077,
     "end_time": "2022-05-14T11:11:43.965777",
     "exception": false,
     "start_time": "2022-05-14T11:11:43.888777",
     "status": "completed"
    },
    "tags": []
   },
   "outputs": [
    {
     "data": {
      "text/html": [
       "<div>\n",
       "<style scoped>\n",
       "    .dataframe tbody tr th:only-of-type {\n",
       "        vertical-align: middle;\n",
       "    }\n",
       "\n",
       "    .dataframe tbody tr th {\n",
       "        vertical-align: top;\n",
       "    }\n",
       "\n",
       "    .dataframe thead th {\n",
       "        text-align: right;\n",
       "    }\n",
       "</style>\n",
       "<table border=\"1\" class=\"dataframe\">\n",
       "  <thead>\n",
       "    <tr style=\"text-align: right;\">\n",
       "      <th></th>\n",
       "      <th>rank</th>\n",
       "      <th>name</th>\n",
       "      <th>networth</th>\n",
       "      <th>age</th>\n",
       "      <th>country</th>\n",
       "      <th>source</th>\n",
       "      <th>industry</th>\n",
       "    </tr>\n",
       "  </thead>\n",
       "  <tbody>\n",
       "    <tr>\n",
       "      <th>0</th>\n",
       "      <td>1</td>\n",
       "      <td>Elon Musk</td>\n",
       "      <td>$219 B</td>\n",
       "      <td>50</td>\n",
       "      <td>United States</td>\n",
       "      <td>Tesla, SpaceX</td>\n",
       "      <td>Automotive</td>\n",
       "    </tr>\n",
       "    <tr>\n",
       "      <th>1</th>\n",
       "      <td>2</td>\n",
       "      <td>Jeff Bezos</td>\n",
       "      <td>$171 B</td>\n",
       "      <td>58</td>\n",
       "      <td>United States</td>\n",
       "      <td>Amazon</td>\n",
       "      <td>Technology</td>\n",
       "    </tr>\n",
       "    <tr>\n",
       "      <th>2</th>\n",
       "      <td>3</td>\n",
       "      <td>Bernard Arnault &amp; family</td>\n",
       "      <td>$158 B</td>\n",
       "      <td>73</td>\n",
       "      <td>France</td>\n",
       "      <td>LVMH</td>\n",
       "      <td>Fashion &amp; Retail</td>\n",
       "    </tr>\n",
       "    <tr>\n",
       "      <th>3</th>\n",
       "      <td>4</td>\n",
       "      <td>Bill Gates</td>\n",
       "      <td>$129 B</td>\n",
       "      <td>66</td>\n",
       "      <td>United States</td>\n",
       "      <td>Microsoft</td>\n",
       "      <td>Technology</td>\n",
       "    </tr>\n",
       "    <tr>\n",
       "      <th>4</th>\n",
       "      <td>5</td>\n",
       "      <td>Warren Buffett</td>\n",
       "      <td>$118 B</td>\n",
       "      <td>91</td>\n",
       "      <td>United States</td>\n",
       "      <td>Berkshire Hathaway</td>\n",
       "      <td>Finance &amp; Investments</td>\n",
       "    </tr>\n",
       "    <tr>\n",
       "      <th>...</th>\n",
       "      <td>...</td>\n",
       "      <td>...</td>\n",
       "      <td>...</td>\n",
       "      <td>...</td>\n",
       "      <td>...</td>\n",
       "      <td>...</td>\n",
       "      <td>...</td>\n",
       "    </tr>\n",
       "    <tr>\n",
       "      <th>2595</th>\n",
       "      <td>2578</td>\n",
       "      <td>Jorge Gallardo Ballart</td>\n",
       "      <td>$1 B</td>\n",
       "      <td>80</td>\n",
       "      <td>Spain</td>\n",
       "      <td>pharmaceuticals</td>\n",
       "      <td>Healthcare</td>\n",
       "    </tr>\n",
       "    <tr>\n",
       "      <th>2596</th>\n",
       "      <td>2578</td>\n",
       "      <td>Nari Genomal</td>\n",
       "      <td>$1 B</td>\n",
       "      <td>82</td>\n",
       "      <td>Philippines</td>\n",
       "      <td>apparel</td>\n",
       "      <td>Fashion &amp; Retail</td>\n",
       "    </tr>\n",
       "    <tr>\n",
       "      <th>2597</th>\n",
       "      <td>2578</td>\n",
       "      <td>Ramesh Genomal</td>\n",
       "      <td>$1 B</td>\n",
       "      <td>71</td>\n",
       "      <td>Philippines</td>\n",
       "      <td>apparel</td>\n",
       "      <td>Fashion &amp; Retail</td>\n",
       "    </tr>\n",
       "    <tr>\n",
       "      <th>2598</th>\n",
       "      <td>2578</td>\n",
       "      <td>Sunder Genomal</td>\n",
       "      <td>$1 B</td>\n",
       "      <td>68</td>\n",
       "      <td>Philippines</td>\n",
       "      <td>garments</td>\n",
       "      <td>Fashion &amp; Retail</td>\n",
       "    </tr>\n",
       "    <tr>\n",
       "      <th>2599</th>\n",
       "      <td>2578</td>\n",
       "      <td>Horst-Otto Gerberding</td>\n",
       "      <td>$1 B</td>\n",
       "      <td>69</td>\n",
       "      <td>Germany</td>\n",
       "      <td>flavors and fragrances</td>\n",
       "      <td>Food &amp; Beverage</td>\n",
       "    </tr>\n",
       "  </tbody>\n",
       "</table>\n",
       "<p>2600 rows × 7 columns</p>\n",
       "</div>"
      ],
      "text/plain": [
       "      rank                       name networth  age        country  \\\n",
       "0        1                 Elon Musk    $219 B   50  United States   \n",
       "1        2                Jeff Bezos    $171 B   58  United States   \n",
       "2        3  Bernard Arnault & family    $158 B   73         France   \n",
       "3        4                Bill Gates    $129 B   66  United States   \n",
       "4        5            Warren Buffett    $118 B   91  United States   \n",
       "...    ...                        ...      ...  ...            ...   \n",
       "2595  2578    Jorge Gallardo Ballart      $1 B   80          Spain   \n",
       "2596  2578              Nari Genomal      $1 B   82    Philippines   \n",
       "2597  2578            Ramesh Genomal      $1 B   71    Philippines   \n",
       "2598  2578            Sunder Genomal      $1 B   68    Philippines   \n",
       "2599  2578     Horst-Otto Gerberding      $1 B   69        Germany   \n",
       "\n",
       "                      source                industry  \n",
       "0              Tesla, SpaceX             Automotive   \n",
       "1                     Amazon             Technology   \n",
       "2                       LVMH       Fashion & Retail   \n",
       "3                  Microsoft             Technology   \n",
       "4         Berkshire Hathaway  Finance & Investments   \n",
       "...                      ...                     ...  \n",
       "2595         pharmaceuticals             Healthcare   \n",
       "2596                 apparel       Fashion & Retail   \n",
       "2597                 apparel       Fashion & Retail   \n",
       "2598                garments       Fashion & Retail   \n",
       "2599  flavors and fragrances        Food & Beverage   \n",
       "\n",
       "[2600 rows x 7 columns]"
      ]
     },
     "execution_count": 2,
     "metadata": {},
     "output_type": "execute_result"
    }
   ],
   "source": [
    "#Reading dataset\n",
    "data=pd.read_csv(\"../input/forberslist/2022_forbes_billionaires.csv\"\n",
    "\n",
    "\n",
    ",usecols=['rank','name','networth','age','country','source','industry'])\n",
    "data"
   ]
  },
  {
   "cell_type": "code",
   "execution_count": 3,
   "id": "494070ae",
   "metadata": {
    "execution": {
     "iopub.execute_input": "2022-05-14T11:11:44.014284Z",
     "iopub.status.busy": "2022-05-14T11:11:44.013975Z",
     "iopub.status.idle": "2022-05-14T11:11:44.026123Z",
     "shell.execute_reply": "2022-05-14T11:11:44.025572Z"
    },
    "id": "OgyIT_fU-SFu",
    "outputId": "52dac6dd-2c7f-4b9d-cadb-61f3fc96afb5",
    "papermill": {
     "duration": 0.038829,
     "end_time": "2022-05-14T11:11:44.028702",
     "exception": false,
     "start_time": "2022-05-14T11:11:43.989873",
     "status": "completed"
    },
    "tags": []
   },
   "outputs": [
    {
     "data": {
      "text/html": [
       "<div>\n",
       "<style scoped>\n",
       "    .dataframe tbody tr th:only-of-type {\n",
       "        vertical-align: middle;\n",
       "    }\n",
       "\n",
       "    .dataframe tbody tr th {\n",
       "        vertical-align: top;\n",
       "    }\n",
       "\n",
       "    .dataframe thead th {\n",
       "        text-align: right;\n",
       "    }\n",
       "</style>\n",
       "<table border=\"1\" class=\"dataframe\">\n",
       "  <thead>\n",
       "    <tr style=\"text-align: right;\">\n",
       "      <th></th>\n",
       "      <th>rank</th>\n",
       "      <th>name</th>\n",
       "      <th>networth</th>\n",
       "      <th>age</th>\n",
       "      <th>country</th>\n",
       "      <th>source</th>\n",
       "      <th>industry</th>\n",
       "    </tr>\n",
       "  </thead>\n",
       "  <tbody>\n",
       "    <tr>\n",
       "      <th>0</th>\n",
       "      <td>1</td>\n",
       "      <td>Elon Musk</td>\n",
       "      <td>$219 B</td>\n",
       "      <td>50</td>\n",
       "      <td>United States</td>\n",
       "      <td>Tesla, SpaceX</td>\n",
       "      <td>Automotive</td>\n",
       "    </tr>\n",
       "    <tr>\n",
       "      <th>1</th>\n",
       "      <td>2</td>\n",
       "      <td>Jeff Bezos</td>\n",
       "      <td>$171 B</td>\n",
       "      <td>58</td>\n",
       "      <td>United States</td>\n",
       "      <td>Amazon</td>\n",
       "      <td>Technology</td>\n",
       "    </tr>\n",
       "    <tr>\n",
       "      <th>2</th>\n",
       "      <td>3</td>\n",
       "      <td>Bernard Arnault &amp; family</td>\n",
       "      <td>$158 B</td>\n",
       "      <td>73</td>\n",
       "      <td>France</td>\n",
       "      <td>LVMH</td>\n",
       "      <td>Fashion &amp; Retail</td>\n",
       "    </tr>\n",
       "    <tr>\n",
       "      <th>3</th>\n",
       "      <td>4</td>\n",
       "      <td>Bill Gates</td>\n",
       "      <td>$129 B</td>\n",
       "      <td>66</td>\n",
       "      <td>United States</td>\n",
       "      <td>Microsoft</td>\n",
       "      <td>Technology</td>\n",
       "    </tr>\n",
       "    <tr>\n",
       "      <th>4</th>\n",
       "      <td>5</td>\n",
       "      <td>Warren Buffett</td>\n",
       "      <td>$118 B</td>\n",
       "      <td>91</td>\n",
       "      <td>United States</td>\n",
       "      <td>Berkshire Hathaway</td>\n",
       "      <td>Finance &amp; Investments</td>\n",
       "    </tr>\n",
       "  </tbody>\n",
       "</table>\n",
       "</div>"
      ],
      "text/plain": [
       "   rank                       name networth  age        country  \\\n",
       "0     1                 Elon Musk    $219 B   50  United States   \n",
       "1     2                Jeff Bezos    $171 B   58  United States   \n",
       "2     3  Bernard Arnault & family    $158 B   73         France   \n",
       "3     4                Bill Gates    $129 B   66  United States   \n",
       "4     5            Warren Buffett    $118 B   91  United States   \n",
       "\n",
       "               source                industry  \n",
       "0       Tesla, SpaceX             Automotive   \n",
       "1              Amazon             Technology   \n",
       "2                LVMH       Fashion & Retail   \n",
       "3           Microsoft             Technology   \n",
       "4  Berkshire Hathaway  Finance & Investments   "
      ]
     },
     "execution_count": 3,
     "metadata": {},
     "output_type": "execute_result"
    }
   ],
   "source": [
    "#Display top rows from our dataset\n",
    "data.head(5)"
   ]
  },
  {
   "cell_type": "code",
   "execution_count": 4,
   "id": "b3f124dd",
   "metadata": {
    "execution": {
     "iopub.execute_input": "2022-05-14T11:11:44.078681Z",
     "iopub.status.busy": "2022-05-14T11:11:44.077673Z",
     "iopub.status.idle": "2022-05-14T11:11:44.086115Z",
     "shell.execute_reply": "2022-05-14T11:11:44.084754Z"
    },
    "id": "czf_R8g2-ccy",
    "outputId": "fd843868-ef7e-4347-d7d8-0003ecdc9e26",
    "papermill": {
     "duration": 0.036262,
     "end_time": "2022-05-14T11:11:44.089109",
     "exception": false,
     "start_time": "2022-05-14T11:11:44.052847",
     "status": "completed"
    },
    "tags": []
   },
   "outputs": [
    {
     "name": "stdout",
     "output_type": "stream",
     "text": [
      "no of rows 2600\n",
      "no of columns 7\n"
     ]
    }
   ],
   "source": [
    "#Display the no of rows and no of columns\n",
    "df=data.shape\n",
    "print(\"no of rows\",df[0])\n",
    "print(\"no of columns\",df[1])\n"
   ]
  },
  {
   "cell_type": "code",
   "execution_count": 5,
   "id": "d788dbe2",
   "metadata": {
    "execution": {
     "iopub.execute_input": "2022-05-14T11:11:44.148144Z",
     "iopub.status.busy": "2022-05-14T11:11:44.147848Z",
     "iopub.status.idle": "2022-05-14T11:11:44.158047Z",
     "shell.execute_reply": "2022-05-14T11:11:44.157268Z"
    },
    "id": "nWFE9kSj-18j",
    "outputId": "4c7c16c4-6974-4cf7-8dff-1d80f655b8d6",
    "papermill": {
     "duration": 0.047904,
     "end_time": "2022-05-14T11:11:44.163175",
     "exception": false,
     "start_time": "2022-05-14T11:11:44.115271",
     "status": "completed"
    },
    "tags": []
   },
   "outputs": [
    {
     "data": {
      "text/plain": [
       "Index(['rank', 'name', 'networth', 'age', 'country', 'source', 'industry'], dtype='object')"
      ]
     },
     "execution_count": 5,
     "metadata": {},
     "output_type": "execute_result"
    }
   ],
   "source": [
    "#Display the columns name\n",
    "data.columns"
   ]
  },
  {
   "cell_type": "code",
   "execution_count": 6,
   "id": "272563ac",
   "metadata": {
    "execution": {
     "iopub.execute_input": "2022-05-14T11:11:44.221792Z",
     "iopub.status.busy": "2022-05-14T11:11:44.221537Z",
     "iopub.status.idle": "2022-05-14T11:11:44.236221Z",
     "shell.execute_reply": "2022-05-14T11:11:44.235246Z"
    },
    "id": "oDoU8G9F-5jl",
    "outputId": "7353bd16-ed13-4a2b-c83e-aba5dcf1d69a",
    "papermill": {
     "duration": 0.044084,
     "end_time": "2022-05-14T11:11:44.238316",
     "exception": false,
     "start_time": "2022-05-14T11:11:44.194232",
     "status": "completed"
    },
    "tags": []
   },
   "outputs": [
    {
     "data": {
      "text/html": [
       "<div>\n",
       "<style scoped>\n",
       "    .dataframe tbody tr th:only-of-type {\n",
       "        vertical-align: middle;\n",
       "    }\n",
       "\n",
       "    .dataframe tbody tr th {\n",
       "        vertical-align: top;\n",
       "    }\n",
       "\n",
       "    .dataframe thead th {\n",
       "        text-align: right;\n",
       "    }\n",
       "</style>\n",
       "<table border=\"1\" class=\"dataframe\">\n",
       "  <thead>\n",
       "    <tr style=\"text-align: right;\">\n",
       "      <th></th>\n",
       "      <th>rank</th>\n",
       "      <th>name</th>\n",
       "      <th>networth</th>\n",
       "      <th>age</th>\n",
       "      <th>country</th>\n",
       "      <th>source</th>\n",
       "      <th>industry</th>\n",
       "    </tr>\n",
       "  </thead>\n",
       "  <tbody>\n",
       "    <tr>\n",
       "      <th>0</th>\n",
       "      <td>1</td>\n",
       "      <td>Elon Musk</td>\n",
       "      <td>$219 B</td>\n",
       "      <td>50</td>\n",
       "      <td>United States</td>\n",
       "      <td>Tesla, SpaceX</td>\n",
       "      <td>Automotive</td>\n",
       "    </tr>\n",
       "  </tbody>\n",
       "</table>\n",
       "</div>"
      ],
      "text/plain": [
       "   rank        name networth  age        country         source     industry\n",
       "0     1  Elon Musk    $219 B   50  United States  Tesla, SpaceX  Automotive "
      ]
     },
     "execution_count": 6,
     "metadata": {},
     "output_type": "execute_result"
    }
   ],
   "source": [
    "data.head(1)"
   ]
  },
  {
   "cell_type": "code",
   "execution_count": 7,
   "id": "8e6afa4c",
   "metadata": {
    "execution": {
     "iopub.execute_input": "2022-05-14T11:11:44.296998Z",
     "iopub.status.busy": "2022-05-14T11:11:44.296733Z",
     "iopub.status.idle": "2022-05-14T11:11:44.318866Z",
     "shell.execute_reply": "2022-05-14T11:11:44.318331Z"
    },
    "id": "_OOdGQQJ-8tG",
    "outputId": "e98a121f-bc1e-4283-c2f5-cc4f765dfe0f",
    "papermill": {
     "duration": 0.055169,
     "end_time": "2022-05-14T11:11:44.322909",
     "exception": false,
     "start_time": "2022-05-14T11:11:44.267740",
     "status": "completed"
    },
    "tags": []
   },
   "outputs": [
    {
     "name": "stdout",
     "output_type": "stream",
     "text": [
      "<class 'pandas.core.frame.DataFrame'>\n",
      "RangeIndex: 2600 entries, 0 to 2599\n",
      "Data columns (total 7 columns):\n",
      " #   Column    Non-Null Count  Dtype \n",
      "---  ------    --------------  ----- \n",
      " 0   rank      2600 non-null   int64 \n",
      " 1   name      2600 non-null   object\n",
      " 2   networth  2600 non-null   object\n",
      " 3   age       2600 non-null   int64 \n",
      " 4   country   2600 non-null   object\n",
      " 5   source    2600 non-null   object\n",
      " 6   industry  2600 non-null   object\n",
      "dtypes: int64(2), object(5)\n",
      "memory usage: 142.3+ KB\n"
     ]
    }
   ],
   "source": [
    "#Display the information of our dataset\n",
    "data.info()"
   ]
  },
  {
   "cell_type": "code",
   "execution_count": 8,
   "id": "ac8bd2af",
   "metadata": {
    "execution": {
     "iopub.execute_input": "2022-05-14T11:11:44.383220Z",
     "iopub.status.busy": "2022-05-14T11:11:44.382507Z",
     "iopub.status.idle": "2022-05-14T11:11:44.413052Z",
     "shell.execute_reply": "2022-05-14T11:11:44.412227Z"
    },
    "id": "R4KpOWQS_Is9",
    "outputId": "fe44a042-f4c4-4bdb-fbf1-8dc48dce3ea4",
    "papermill": {
     "duration": 0.059611,
     "end_time": "2022-05-14T11:11:44.415287",
     "exception": false,
     "start_time": "2022-05-14T11:11:44.355676",
     "status": "completed"
    },
    "tags": []
   },
   "outputs": [
    {
     "data": {
      "text/html": [
       "<div>\n",
       "<style scoped>\n",
       "    .dataframe tbody tr th:only-of-type {\n",
       "        vertical-align: middle;\n",
       "    }\n",
       "\n",
       "    .dataframe tbody tr th {\n",
       "        vertical-align: top;\n",
       "    }\n",
       "\n",
       "    .dataframe thead th {\n",
       "        text-align: right;\n",
       "    }\n",
       "</style>\n",
       "<table border=\"1\" class=\"dataframe\">\n",
       "  <thead>\n",
       "    <tr style=\"text-align: right;\">\n",
       "      <th></th>\n",
       "      <th>name</th>\n",
       "      <th>networth</th>\n",
       "      <th>country</th>\n",
       "      <th>source</th>\n",
       "      <th>industry</th>\n",
       "    </tr>\n",
       "  </thead>\n",
       "  <tbody>\n",
       "    <tr>\n",
       "      <th>count</th>\n",
       "      <td>2600</td>\n",
       "      <td>2600</td>\n",
       "      <td>2600</td>\n",
       "      <td>2600</td>\n",
       "      <td>2600</td>\n",
       "    </tr>\n",
       "    <tr>\n",
       "      <th>unique</th>\n",
       "      <td>2598</td>\n",
       "      <td>228</td>\n",
       "      <td>75</td>\n",
       "      <td>895</td>\n",
       "      <td>18</td>\n",
       "    </tr>\n",
       "    <tr>\n",
       "      <th>top</th>\n",
       "      <td>Wang Yanqing &amp; family</td>\n",
       "      <td>$1.5 B</td>\n",
       "      <td>United States</td>\n",
       "      <td>real estate</td>\n",
       "      <td>Finance &amp; Investments</td>\n",
       "    </tr>\n",
       "    <tr>\n",
       "      <th>freq</th>\n",
       "      <td>2</td>\n",
       "      <td>147</td>\n",
       "      <td>719</td>\n",
       "      <td>148</td>\n",
       "      <td>386</td>\n",
       "    </tr>\n",
       "  </tbody>\n",
       "</table>\n",
       "</div>"
      ],
      "text/plain": [
       "                          name networth        country       source  \\\n",
       "count                     2600     2600           2600         2600   \n",
       "unique                    2598      228             75          895   \n",
       "top     Wang Yanqing & family    $1.5 B  United States  real estate   \n",
       "freq                         2      147            719          148   \n",
       "\n",
       "                      industry  \n",
       "count                     2600  \n",
       "unique                      18  \n",
       "top     Finance & Investments   \n",
       "freq                       386  "
      ]
     },
     "execution_count": 8,
     "metadata": {},
     "output_type": "execute_result"
    }
   ],
   "source": [
    "#Decribe the stastics of our dataset\n",
    "data.describe(include='object')"
   ]
  },
  {
   "cell_type": "code",
   "execution_count": 9,
   "id": "f7cff1e2",
   "metadata": {
    "execution": {
     "iopub.execute_input": "2022-05-14T11:11:44.484357Z",
     "iopub.status.busy": "2022-05-14T11:11:44.483986Z",
     "iopub.status.idle": "2022-05-14T11:11:44.499008Z",
     "shell.execute_reply": "2022-05-14T11:11:44.498189Z"
    },
    "id": "Be1w2F9Z_QlW",
    "outputId": "2e4c9204-987e-4059-88bd-48d1e9278eb2",
    "papermill": {
     "duration": 0.055729,
     "end_time": "2022-05-14T11:11:44.501074",
     "exception": false,
     "start_time": "2022-05-14T11:11:44.445345",
     "status": "completed"
    },
    "tags": []
   },
   "outputs": [
    {
     "data": {
      "text/html": [
       "<div>\n",
       "<style scoped>\n",
       "    .dataframe tbody tr th:only-of-type {\n",
       "        vertical-align: middle;\n",
       "    }\n",
       "\n",
       "    .dataframe tbody tr th {\n",
       "        vertical-align: top;\n",
       "    }\n",
       "\n",
       "    .dataframe thead th {\n",
       "        text-align: right;\n",
       "    }\n",
       "</style>\n",
       "<table border=\"1\" class=\"dataframe\">\n",
       "  <thead>\n",
       "    <tr style=\"text-align: right;\">\n",
       "      <th></th>\n",
       "      <th>rank</th>\n",
       "      <th>name</th>\n",
       "      <th>networth</th>\n",
       "      <th>age</th>\n",
       "      <th>country</th>\n",
       "      <th>source</th>\n",
       "      <th>industry</th>\n",
       "    </tr>\n",
       "  </thead>\n",
       "  <tbody>\n",
       "    <tr>\n",
       "      <th>0</th>\n",
       "      <td>1</td>\n",
       "      <td>Elon Musk</td>\n",
       "      <td>$219 B</td>\n",
       "      <td>50</td>\n",
       "      <td>United States</td>\n",
       "      <td>Tesla, SpaceX</td>\n",
       "      <td>Automotive</td>\n",
       "    </tr>\n",
       "  </tbody>\n",
       "</table>\n",
       "</div>"
      ],
      "text/plain": [
       "   rank        name networth  age        country         source     industry\n",
       "0     1  Elon Musk    $219 B   50  United States  Tesla, SpaceX  Automotive "
      ]
     },
     "execution_count": 9,
     "metadata": {},
     "output_type": "execute_result"
    }
   ],
   "source": [
    "data.head(1)"
   ]
  },
  {
   "cell_type": "code",
   "execution_count": 10,
   "id": "7a3d33f1",
   "metadata": {
    "execution": {
     "iopub.execute_input": "2022-05-14T11:11:44.557067Z",
     "iopub.status.busy": "2022-05-14T11:11:44.556342Z",
     "iopub.status.idle": "2022-05-14T11:11:44.563668Z",
     "shell.execute_reply": "2022-05-14T11:11:44.563035Z"
    },
    "id": "-T2U4DxnAMsN",
    "outputId": "daaff173-578c-4447-caef-083a24b00a3a",
    "papermill": {
     "duration": 0.037775,
     "end_time": "2022-05-14T11:11:44.565600",
     "exception": false,
     "start_time": "2022-05-14T11:11:44.527825",
     "status": "completed"
    },
    "tags": []
   },
   "outputs": [
    {
     "data": {
      "text/plain": [
       "2600"
      ]
     },
     "execution_count": 10,
     "metadata": {},
     "output_type": "execute_result"
    }
   ],
   "source": [
    "df=len(list((data['industry'])))\n",
    "df"
   ]
  },
  {
   "cell_type": "code",
   "execution_count": 11,
   "id": "a0b8d910",
   "metadata": {
    "execution": {
     "iopub.execute_input": "2022-05-14T11:11:44.622678Z",
     "iopub.status.busy": "2022-05-14T11:11:44.621717Z",
     "iopub.status.idle": "2022-05-14T11:11:44.993768Z",
     "shell.execute_reply": "2022-05-14T11:11:44.993136Z"
    },
    "id": "xG-9rGjeD3V6",
    "outputId": "6b3bcd66-c11d-4da1-deaf-5ee9059aa52e",
    "papermill": {
     "duration": 0.403301,
     "end_time": "2022-05-14T11:11:44.996278",
     "exception": false,
     "start_time": "2022-05-14T11:11:44.592977",
     "status": "completed"
    },
    "tags": []
   },
   "outputs": [
    {
     "data": {
      "image/png": "[encoded data removed]",
      "text/plain": [
       "<Figure size 1152x648 with 1 Axes>"
      ]
     },
     "metadata": {
      "needs_background": "light"
     },
     "output_type": "display_data"
    }
   ],
   "source": [
    "#Display the visulaization of count no. of industry\n",
    "plt.figure(figsize=(16,9))\n",
    "sns.countplot(y='industry',data=data)\n",
    "plt.title(\"Count No. of Industry\")\n",
    "plt.show()"
   ]
  },
  {
   "cell_type": "code",
   "execution_count": 12,
   "id": "5b91acb0",
   "metadata": {
    "execution": {
     "iopub.execute_input": "2022-05-14T11:11:45.065349Z",
     "iopub.status.busy": "2022-05-14T11:11:45.064532Z",
     "iopub.status.idle": "2022-05-14T11:11:45.076096Z",
     "shell.execute_reply": "2022-05-14T11:11:45.075257Z"
    },
    "id": "bOuDNuBaFmPv",
    "outputId": "3be8484b-2871-4a81-8e77-2293900a7944",
    "papermill": {
     "duration": 0.046933,
     "end_time": "2022-05-14T11:11:45.078466",
     "exception": false,
     "start_time": "2022-05-14T11:11:45.031533",
     "status": "completed"
    },
    "tags": []
   },
   "outputs": [
    {
     "data": {
      "text/html": [
       "<div>\n",
       "<style scoped>\n",
       "    .dataframe tbody tr th:only-of-type {\n",
       "        vertical-align: middle;\n",
       "    }\n",
       "\n",
       "    .dataframe tbody tr th {\n",
       "        vertical-align: top;\n",
       "    }\n",
       "\n",
       "    .dataframe thead th {\n",
       "        text-align: right;\n",
       "    }\n",
       "</style>\n",
       "<table border=\"1\" class=\"dataframe\">\n",
       "  <thead>\n",
       "    <tr style=\"text-align: right;\">\n",
       "      <th></th>\n",
       "      <th>rank</th>\n",
       "      <th>name</th>\n",
       "      <th>networth</th>\n",
       "      <th>age</th>\n",
       "      <th>country</th>\n",
       "      <th>source</th>\n",
       "      <th>industry</th>\n",
       "    </tr>\n",
       "  </thead>\n",
       "  <tbody>\n",
       "    <tr>\n",
       "      <th>0</th>\n",
       "      <td>1</td>\n",
       "      <td>Elon Musk</td>\n",
       "      <td>$219 B</td>\n",
       "      <td>50</td>\n",
       "      <td>United States</td>\n",
       "      <td>Tesla, SpaceX</td>\n",
       "      <td>Automotive</td>\n",
       "    </tr>\n",
       "  </tbody>\n",
       "</table>\n",
       "</div>"
      ],
      "text/plain": [
       "   rank        name networth  age        country         source     industry\n",
       "0     1  Elon Musk    $219 B   50  United States  Tesla, SpaceX  Automotive "
      ]
     },
     "execution_count": 12,
     "metadata": {},
     "output_type": "execute_result"
    }
   ],
   "source": [
    "data.head(1)"
   ]
  },
  {
   "cell_type": "code",
   "execution_count": null,
   "id": "87f0a350",
   "metadata": {
    "id": "VdsUNoJxFsvz",
    "papermill": {
     "duration": 0.028554,
     "end_time": "2022-05-14T11:11:45.136054",
     "exception": false,
     "start_time": "2022-05-14T11:11:45.107500",
     "status": "completed"
    },
    "tags": []
   },
   "outputs": [],
   "source": []
  },
  {
   "cell_type": "code",
   "execution_count": 13,
   "id": "2780d8ad",
   "metadata": {
    "execution": {
     "iopub.execute_input": "2022-05-14T11:11:45.194713Z",
     "iopub.status.busy": "2022-05-14T11:11:45.194420Z",
     "iopub.status.idle": "2022-05-14T11:11:45.220717Z",
     "shell.execute_reply": "2022-05-14T11:11:45.219774Z"
    },
    "id": "NNBO-VPTF_Mg",
    "outputId": "f3771587-7c37-4078-b43e-94379c1871a4",
    "papermill": {
     "duration": 0.058209,
     "end_time": "2022-05-14T11:11:45.222841",
     "exception": false,
     "start_time": "2022-05-14T11:11:45.164632",
     "status": "completed"
    },
    "tags": []
   },
   "outputs": [
    {
     "data": {
      "text/html": [
       "<div>\n",
       "<style scoped>\n",
       "    .dataframe tbody tr th:only-of-type {\n",
       "        vertical-align: middle;\n",
       "    }\n",
       "\n",
       "    .dataframe tbody tr th {\n",
       "        vertical-align: top;\n",
       "    }\n",
       "\n",
       "    .dataframe thead th {\n",
       "        text-align: right;\n",
       "    }\n",
       "</style>\n",
       "<table border=\"1\" class=\"dataframe\">\n",
       "  <thead>\n",
       "    <tr style=\"text-align: right;\">\n",
       "      <th></th>\n",
       "      <th>rank</th>\n",
       "      <th>name</th>\n",
       "      <th>networth</th>\n",
       "      <th>age</th>\n",
       "      <th>country</th>\n",
       "      <th>source</th>\n",
       "      <th>industry</th>\n",
       "    </tr>\n",
       "  </thead>\n",
       "  <tbody>\n",
       "    <tr>\n",
       "      <th>0</th>\n",
       "      <td>1</td>\n",
       "      <td>Elon Musk</td>\n",
       "      <td>$219</td>\n",
       "      <td>50</td>\n",
       "      <td>United States</td>\n",
       "      <td>Tesla, SpaceX</td>\n",
       "      <td>Automotive</td>\n",
       "    </tr>\n",
       "    <tr>\n",
       "      <th>1</th>\n",
       "      <td>2</td>\n",
       "      <td>Jeff Bezos</td>\n",
       "      <td>$171</td>\n",
       "      <td>58</td>\n",
       "      <td>United States</td>\n",
       "      <td>Amazon</td>\n",
       "      <td>Technology</td>\n",
       "    </tr>\n",
       "    <tr>\n",
       "      <th>2</th>\n",
       "      <td>3</td>\n",
       "      <td>Bernard Arnault &amp; family</td>\n",
       "      <td>$158</td>\n",
       "      <td>73</td>\n",
       "      <td>France</td>\n",
       "      <td>LVMH</td>\n",
       "      <td>Fashion &amp; Retail</td>\n",
       "    </tr>\n",
       "    <tr>\n",
       "      <th>3</th>\n",
       "      <td>4</td>\n",
       "      <td>Bill Gates</td>\n",
       "      <td>$129</td>\n",
       "      <td>66</td>\n",
       "      <td>United States</td>\n",
       "      <td>Microsoft</td>\n",
       "      <td>Technology</td>\n",
       "    </tr>\n",
       "    <tr>\n",
       "      <th>4</th>\n",
       "      <td>5</td>\n",
       "      <td>Warren Buffett</td>\n",
       "      <td>$118</td>\n",
       "      <td>91</td>\n",
       "      <td>United States</td>\n",
       "      <td>Berkshire Hathaway</td>\n",
       "      <td>Finance &amp; Investments</td>\n",
       "    </tr>\n",
       "    <tr>\n",
       "      <th>...</th>\n",
       "      <td>...</td>\n",
       "      <td>...</td>\n",
       "      <td>...</td>\n",
       "      <td>...</td>\n",
       "      <td>...</td>\n",
       "      <td>...</td>\n",
       "      <td>...</td>\n",
       "    </tr>\n",
       "    <tr>\n",
       "      <th>2595</th>\n",
       "      <td>2578</td>\n",
       "      <td>Jorge Gallardo Ballart</td>\n",
       "      <td>$1</td>\n",
       "      <td>80</td>\n",
       "      <td>Spain</td>\n",
       "      <td>pharmaceuticals</td>\n",
       "      <td>Healthcare</td>\n",
       "    </tr>\n",
       "    <tr>\n",
       "      <th>2596</th>\n",
       "      <td>2578</td>\n",
       "      <td>Nari Genomal</td>\n",
       "      <td>$1</td>\n",
       "      <td>82</td>\n",
       "      <td>Philippines</td>\n",
       "      <td>apparel</td>\n",
       "      <td>Fashion &amp; Retail</td>\n",
       "    </tr>\n",
       "    <tr>\n",
       "      <th>2597</th>\n",
       "      <td>2578</td>\n",
       "      <td>Ramesh Genomal</td>\n",
       "      <td>$1</td>\n",
       "      <td>71</td>\n",
       "      <td>Philippines</td>\n",
       "      <td>apparel</td>\n",
       "      <td>Fashion &amp; Retail</td>\n",
       "    </tr>\n",
       "    <tr>\n",
       "      <th>2598</th>\n",
       "      <td>2578</td>\n",
       "      <td>Sunder Genomal</td>\n",
       "      <td>$1</td>\n",
       "      <td>68</td>\n",
       "      <td>Philippines</td>\n",
       "      <td>garments</td>\n",
       "      <td>Fashion &amp; Retail</td>\n",
       "    </tr>\n",
       "    <tr>\n",
       "      <th>2599</th>\n",
       "      <td>2578</td>\n",
       "      <td>Horst-Otto Gerberding</td>\n",
       "      <td>$1</td>\n",
       "      <td>69</td>\n",
       "      <td>Germany</td>\n",
       "      <td>flavors and fragrances</td>\n",
       "      <td>Food &amp; Beverage</td>\n",
       "    </tr>\n",
       "  </tbody>\n",
       "</table>\n",
       "<p>2600 rows × 7 columns</p>\n",
       "</div>"
      ],
      "text/plain": [
       "      rank                       name networth  age        country  \\\n",
       "0        1                 Elon Musk    $219     50  United States   \n",
       "1        2                Jeff Bezos    $171     58  United States   \n",
       "2        3  Bernard Arnault & family    $158     73         France   \n",
       "3        4                Bill Gates    $129     66  United States   \n",
       "4        5            Warren Buffett    $118     91  United States   \n",
       "...    ...                        ...      ...  ...            ...   \n",
       "2595  2578    Jorge Gallardo Ballart      $1     80          Spain   \n",
       "2596  2578              Nari Genomal      $1     82    Philippines   \n",
       "2597  2578            Ramesh Genomal      $1     71    Philippines   \n",
       "2598  2578            Sunder Genomal      $1     68    Philippines   \n",
       "2599  2578     Horst-Otto Gerberding      $1     69        Germany   \n",
       "\n",
       "                      source                industry  \n",
       "0              Tesla, SpaceX             Automotive   \n",
       "1                     Amazon             Technology   \n",
       "2                       LVMH       Fashion & Retail   \n",
       "3                  Microsoft             Technology   \n",
       "4         Berkshire Hathaway  Finance & Investments   \n",
       "...                      ...                     ...  \n",
       "2595         pharmaceuticals             Healthcare   \n",
       "2596                 apparel       Fashion & Retail   \n",
       "2597                 apparel       Fashion & Retail   \n",
       "2598                garments       Fashion & Retail   \n",
       "2599  flavors and fragrances        Food & Beverage   \n",
       "\n",
       "[2600 rows x 7 columns]"
      ]
     },
     "execution_count": 13,
     "metadata": {},
     "output_type": "execute_result"
    }
   ],
   "source": [
    "#Remove the dolar and b sign\n",
    "data=data.replace({'networth':'[A-Za-z]'},' ',regex=True)\n",
    "data"
   ]
  },
  {
   "cell_type": "code",
   "execution_count": 14,
   "id": "0c152a79",
   "metadata": {
    "execution": {
     "iopub.execute_input": "2022-05-14T11:11:45.283974Z",
     "iopub.status.busy": "2022-05-14T11:11:45.283478Z",
     "iopub.status.idle": "2022-05-14T11:11:45.303878Z",
     "shell.execute_reply": "2022-05-14T11:11:45.302908Z"
    },
    "id": "XzNC98X8KQ-y",
    "outputId": "7b43f1c5-baf1-4923-826a-502097333d00",
    "papermill": {
     "duration": 0.054121,
     "end_time": "2022-05-14T11:11:45.306714",
     "exception": false,
     "start_time": "2022-05-14T11:11:45.252593",
     "status": "completed"
    },
    "tags": []
   },
   "outputs": [
    {
     "name": "stderr",
     "output_type": "stream",
     "text": [
      "/opt/conda/lib/python3.7/site-packages/ipykernel_launcher.py:2: FutureWarning: The default value of regex will change from True to False in a future version. In addition, single character regular expressions will *not* be treated as literal strings when regex=True.\n",
      "  \n"
     ]
    },
    {
     "data": {
      "text/html": [
       "<div>\n",
       "<style scoped>\n",
       "    .dataframe tbody tr th:only-of-type {\n",
       "        vertical-align: middle;\n",
       "    }\n",
       "\n",
       "    .dataframe tbody tr th {\n",
       "        vertical-align: top;\n",
       "    }\n",
       "\n",
       "    .dataframe thead th {\n",
       "        text-align: right;\n",
       "    }\n",
       "</style>\n",
       "<table border=\"1\" class=\"dataframe\">\n",
       "  <thead>\n",
       "    <tr style=\"text-align: right;\">\n",
       "      <th></th>\n",
       "      <th>rank</th>\n",
       "      <th>name</th>\n",
       "      <th>networth</th>\n",
       "      <th>age</th>\n",
       "      <th>country</th>\n",
       "      <th>source</th>\n",
       "      <th>industry</th>\n",
       "    </tr>\n",
       "  </thead>\n",
       "  <tbody>\n",
       "    <tr>\n",
       "      <th>0</th>\n",
       "      <td>1</td>\n",
       "      <td>Elon Musk</td>\n",
       "      <td>219</td>\n",
       "      <td>50</td>\n",
       "      <td>United States</td>\n",
       "      <td>Tesla, SpaceX</td>\n",
       "      <td>Automotive</td>\n",
       "    </tr>\n",
       "    <tr>\n",
       "      <th>1</th>\n",
       "      <td>2</td>\n",
       "      <td>Jeff Bezos</td>\n",
       "      <td>171</td>\n",
       "      <td>58</td>\n",
       "      <td>United States</td>\n",
       "      <td>Amazon</td>\n",
       "      <td>Technology</td>\n",
       "    </tr>\n",
       "    <tr>\n",
       "      <th>2</th>\n",
       "      <td>3</td>\n",
       "      <td>Bernard Arnault &amp; family</td>\n",
       "      <td>158</td>\n",
       "      <td>73</td>\n",
       "      <td>France</td>\n",
       "      <td>LVMH</td>\n",
       "      <td>Fashion &amp; Retail</td>\n",
       "    </tr>\n",
       "    <tr>\n",
       "      <th>3</th>\n",
       "      <td>4</td>\n",
       "      <td>Bill Gates</td>\n",
       "      <td>129</td>\n",
       "      <td>66</td>\n",
       "      <td>United States</td>\n",
       "      <td>Microsoft</td>\n",
       "      <td>Technology</td>\n",
       "    </tr>\n",
       "    <tr>\n",
       "      <th>4</th>\n",
       "      <td>5</td>\n",
       "      <td>Warren Buffett</td>\n",
       "      <td>118</td>\n",
       "      <td>91</td>\n",
       "      <td>United States</td>\n",
       "      <td>Berkshire Hathaway</td>\n",
       "      <td>Finance &amp; Investments</td>\n",
       "    </tr>\n",
       "    <tr>\n",
       "      <th>...</th>\n",
       "      <td>...</td>\n",
       "      <td>...</td>\n",
       "      <td>...</td>\n",
       "      <td>...</td>\n",
       "      <td>...</td>\n",
       "      <td>...</td>\n",
       "      <td>...</td>\n",
       "    </tr>\n",
       "    <tr>\n",
       "      <th>2595</th>\n",
       "      <td>2578</td>\n",
       "      <td>Jorge Gallardo Ballart</td>\n",
       "      <td>1</td>\n",
       "      <td>80</td>\n",
       "      <td>Spain</td>\n",
       "      <td>pharmaceuticals</td>\n",
       "      <td>Healthcare</td>\n",
       "    </tr>\n",
       "    <tr>\n",
       "      <th>2596</th>\n",
       "      <td>2578</td>\n",
       "      <td>Nari Genomal</td>\n",
       "      <td>1</td>\n",
       "      <td>82</td>\n",
       "      <td>Philippines</td>\n",
       "      <td>apparel</td>\n",
       "      <td>Fashion &amp; Retail</td>\n",
       "    </tr>\n",
       "    <tr>\n",
       "      <th>2597</th>\n",
       "      <td>2578</td>\n",
       "      <td>Ramesh Genomal</td>\n",
       "      <td>1</td>\n",
       "      <td>71</td>\n",
       "      <td>Philippines</td>\n",
       "      <td>apparel</td>\n",
       "      <td>Fashion &amp; Retail</td>\n",
       "    </tr>\n",
       "    <tr>\n",
       "      <th>2598</th>\n",
       "      <td>2578</td>\n",
       "      <td>Sunder Genomal</td>\n",
       "      <td>1</td>\n",
       "      <td>68</td>\n",
       "      <td>Philippines</td>\n",
       "      <td>garments</td>\n",
       "      <td>Fashion &amp; Retail</td>\n",
       "    </tr>\n",
       "    <tr>\n",
       "      <th>2599</th>\n",
       "      <td>2578</td>\n",
       "      <td>Horst-Otto Gerberding</td>\n",
       "      <td>1</td>\n",
       "      <td>69</td>\n",
       "      <td>Germany</td>\n",
       "      <td>flavors and fragrances</td>\n",
       "      <td>Food &amp; Beverage</td>\n",
       "    </tr>\n",
       "  </tbody>\n",
       "</table>\n",
       "<p>2600 rows × 7 columns</p>\n",
       "</div>"
      ],
      "text/plain": [
       "      rank                       name networth  age        country  \\\n",
       "0        1                 Elon Musk     219     50  United States   \n",
       "1        2                Jeff Bezos     171     58  United States   \n",
       "2        3  Bernard Arnault & family     158     73         France   \n",
       "3        4                Bill Gates     129     66  United States   \n",
       "4        5            Warren Buffett     118     91  United States   \n",
       "...    ...                        ...      ...  ...            ...   \n",
       "2595  2578    Jorge Gallardo Ballart       1     80          Spain   \n",
       "2596  2578              Nari Genomal       1     82    Philippines   \n",
       "2597  2578            Ramesh Genomal       1     71    Philippines   \n",
       "2598  2578            Sunder Genomal       1     68    Philippines   \n",
       "2599  2578     Horst-Otto Gerberding       1     69        Germany   \n",
       "\n",
       "                      source                industry  \n",
       "0              Tesla, SpaceX             Automotive   \n",
       "1                     Amazon             Technology   \n",
       "2                       LVMH       Fashion & Retail   \n",
       "3                  Microsoft             Technology   \n",
       "4         Berkshire Hathaway  Finance & Investments   \n",
       "...                      ...                     ...  \n",
       "2595         pharmaceuticals             Healthcare   \n",
       "2596                 apparel       Fashion & Retail   \n",
       "2597                 apparel       Fashion & Retail   \n",
       "2598                garments       Fashion & Retail   \n",
       "2599  flavors and fragrances        Food & Beverage   \n",
       "\n",
       "[2600 rows x 7 columns]"
      ]
     },
     "execution_count": 14,
     "metadata": {},
     "output_type": "execute_result"
    }
   ],
   "source": [
    "#Remove the dollar string\n",
    "data['networth']=data['networth'].str.replace('$',' ')\n",
    "\n",
    "data"
   ]
  },
  {
   "cell_type": "code",
   "execution_count": 15,
   "id": "045c9974",
   "metadata": {
    "execution": {
     "iopub.execute_input": "2022-05-14T11:11:45.371791Z",
     "iopub.status.busy": "2022-05-14T11:11:45.371491Z",
     "iopub.status.idle": "2022-05-14T11:11:45.376971Z",
     "shell.execute_reply": "2022-05-14T11:11:45.376041Z"
    },
    "id": "fa6wLXKHLfl8",
    "papermill": {
     "duration": 0.040363,
     "end_time": "2022-05-14T11:11:45.379132",
     "exception": false,
     "start_time": "2022-05-14T11:11:45.338769",
     "status": "completed"
    },
    "tags": []
   },
   "outputs": [],
   "source": [
    "#Convert the string into float\n",
    "data['networth']=data['networth'].astype(float)\n"
   ]
  },
  {
   "cell_type": "code",
   "execution_count": 16,
   "id": "68853498",
   "metadata": {
    "execution": {
     "iopub.execute_input": "2022-05-14T11:11:45.442756Z",
     "iopub.status.busy": "2022-05-14T11:11:45.442067Z",
     "iopub.status.idle": "2022-05-14T11:11:45.456195Z",
     "shell.execute_reply": "2022-05-14T11:11:45.454708Z"
    },
    "id": "uJM10aJjK9Xw",
    "outputId": "6f7d8e82-db88-41c9-defa-dcf4b30145bb",
    "papermill": {
     "duration": 0.048913,
     "end_time": "2022-05-14T11:11:45.458742",
     "exception": false,
     "start_time": "2022-05-14T11:11:45.409829",
     "status": "completed"
    },
    "tags": []
   },
   "outputs": [
    {
     "name": "stdout",
     "output_type": "stream",
     "text": [
      "<class 'pandas.core.frame.DataFrame'>\n",
      "RangeIndex: 2600 entries, 0 to 2599\n",
      "Data columns (total 7 columns):\n",
      " #   Column    Non-Null Count  Dtype  \n",
      "---  ------    --------------  -----  \n",
      " 0   rank      2600 non-null   int64  \n",
      " 1   name      2600 non-null   object \n",
      " 2   networth  2600 non-null   float64\n",
      " 3   age       2600 non-null   int64  \n",
      " 4   country   2600 non-null   object \n",
      " 5   source    2600 non-null   object \n",
      " 6   industry  2600 non-null   object \n",
      "dtypes: float64(1), int64(2), object(4)\n",
      "memory usage: 142.3+ KB\n"
     ]
    }
   ],
   "source": [
    "data.info()"
   ]
  },
  {
   "cell_type": "code",
   "execution_count": 17,
   "id": "0b332673",
   "metadata": {
    "execution": {
     "iopub.execute_input": "2022-05-14T11:11:45.522539Z",
     "iopub.status.busy": "2022-05-14T11:11:45.522234Z",
     "iopub.status.idle": "2022-05-14T11:11:45.535864Z",
     "shell.execute_reply": "2022-05-14T11:11:45.535134Z"
    },
    "id": "KG9y-kXyObeJ",
    "outputId": "7bbedd72-e889-44c5-f2d9-962124152589",
    "papermill": {
     "duration": 0.047786,
     "end_time": "2022-05-14T11:11:45.537821",
     "exception": false,
     "start_time": "2022-05-14T11:11:45.490035",
     "status": "completed"
    },
    "tags": []
   },
   "outputs": [
    {
     "data": {
      "text/html": [
       "<div>\n",
       "<style scoped>\n",
       "    .dataframe tbody tr th:only-of-type {\n",
       "        vertical-align: middle;\n",
       "    }\n",
       "\n",
       "    .dataframe tbody tr th {\n",
       "        vertical-align: top;\n",
       "    }\n",
       "\n",
       "    .dataframe thead th {\n",
       "        text-align: right;\n",
       "    }\n",
       "</style>\n",
       "<table border=\"1\" class=\"dataframe\">\n",
       "  <thead>\n",
       "    <tr style=\"text-align: right;\">\n",
       "      <th></th>\n",
       "      <th>networth</th>\n",
       "    </tr>\n",
       "    <tr>\n",
       "      <th>industry</th>\n",
       "      <th></th>\n",
       "    </tr>\n",
       "  </thead>\n",
       "  <tbody>\n",
       "    <tr>\n",
       "      <th>Automotive</th>\n",
       "      <td>582.60</td>\n",
       "    </tr>\n",
       "    <tr>\n",
       "      <th>Construction &amp; Engineering</th>\n",
       "      <td>120.90</td>\n",
       "    </tr>\n",
       "    <tr>\n",
       "      <th>Diversified</th>\n",
       "      <td>939.50</td>\n",
       "    </tr>\n",
       "    <tr>\n",
       "      <th>Energy</th>\n",
       "      <td>395.30</td>\n",
       "    </tr>\n",
       "    <tr>\n",
       "      <th>Fashion &amp; Retail</th>\n",
       "      <td>1613.20</td>\n",
       "    </tr>\n",
       "    <tr>\n",
       "      <th>Finance &amp; Investments</th>\n",
       "      <td>1734.30</td>\n",
       "    </tr>\n",
       "    <tr>\n",
       "      <th>Food &amp; Beverage</th>\n",
       "      <td>933.35</td>\n",
       "    </tr>\n",
       "    <tr>\n",
       "      <th>Gambling &amp; Casinos</th>\n",
       "      <td>107.60</td>\n",
       "    </tr>\n",
       "    <tr>\n",
       "      <th>Healthcare</th>\n",
       "      <td>708.90</td>\n",
       "    </tr>\n",
       "    <tr>\n",
       "      <th>Logistics</th>\n",
       "      <td>196.20</td>\n",
       "    </tr>\n",
       "    <tr>\n",
       "      <th>Manufacturing</th>\n",
       "      <td>1079.80</td>\n",
       "    </tr>\n",
       "    <tr>\n",
       "      <th>Media &amp; Entertainment</th>\n",
       "      <td>493.60</td>\n",
       "    </tr>\n",
       "    <tr>\n",
       "      <th>Metals &amp; Mining</th>\n",
       "      <td>389.70</td>\n",
       "    </tr>\n",
       "    <tr>\n",
       "      <th>Real Estate</th>\n",
       "      <td>685.80</td>\n",
       "    </tr>\n",
       "    <tr>\n",
       "      <th>Service</th>\n",
       "      <td>186.10</td>\n",
       "    </tr>\n",
       "    <tr>\n",
       "      <th>Sports</th>\n",
       "      <td>97.60</td>\n",
       "    </tr>\n",
       "    <tr>\n",
       "      <th>Technology</th>\n",
       "      <td>2168.40</td>\n",
       "    </tr>\n",
       "    <tr>\n",
       "      <th>Telecom</th>\n",
       "      <td>205.10</td>\n",
       "    </tr>\n",
       "  </tbody>\n",
       "</table>\n",
       "</div>"
      ],
      "text/plain": [
       "                             networth\n",
       "industry                             \n",
       "Automotive                     582.60\n",
       "Construction & Engineering     120.90\n",
       "Diversified                    939.50\n",
       "Energy                         395.30\n",
       "Fashion & Retail              1613.20\n",
       "Finance & Investments         1734.30\n",
       "Food & Beverage                933.35\n",
       "Gambling & Casinos             107.60\n",
       "Healthcare                     708.90\n",
       "Logistics                      196.20\n",
       "Manufacturing                 1079.80\n",
       "Media & Entertainment          493.60\n",
       "Metals & Mining                389.70\n",
       "Real Estate                    685.80\n",
       "Service                        186.10\n",
       "Sports                          97.60\n",
       "Technology                    2168.40\n",
       "Telecom                        205.10"
      ]
     },
     "execution_count": 17,
     "metadata": {},
     "output_type": "execute_result"
    }
   ],
   "source": [
    "#Group by \n",
    "df=data.groupby('industry').aggregate({'networth':'sum'})\n",
    "df"
   ]
  },
  {
   "cell_type": "code",
   "execution_count": 18,
   "id": "28a68543",
   "metadata": {
    "execution": {
     "iopub.execute_input": "2022-05-14T11:11:45.603598Z",
     "iopub.status.busy": "2022-05-14T11:11:45.603307Z",
     "iopub.status.idle": "2022-05-14T11:11:45.879854Z",
     "shell.execute_reply": "2022-05-14T11:11:45.878969Z"
    },
    "id": "FwfrnJ0WVGqW",
    "outputId": "3a3d8f82-8df8-4d05-8e3c-935980baaf19",
    "papermill": {
     "duration": 0.311753,
     "end_time": "2022-05-14T11:11:45.882292",
     "exception": false,
     "start_time": "2022-05-14T11:11:45.570539",
     "status": "completed"
    },
    "tags": []
   },
   "outputs": [
    {
     "data": {
      "image/png": "[encoded data removed]",
      "text/plain": [
       "<Figure size 1152x648 with 1 Axes>"
      ]
     },
     "metadata": {
      "needs_background": "light"
     },
     "output_type": "display_data"
    }
   ],
   "source": [
    "#Display the viualization What industries have these billionores combined made the most value?¶\n",
    "plt.figure(figsize=(16,9))\n",
    "df['industry']=df.index\n",
    "sns.barplot(x='networth',y='industry',data=df)\n",
    "plt.title(\"What industries have these billionores combined made the most value?\")\n",
    "plt.show()"
   ]
  },
  {
   "cell_type": "code",
   "execution_count": 19,
   "id": "dcea80c6",
   "metadata": {
    "execution": {
     "iopub.execute_input": "2022-05-14T11:11:45.953382Z",
     "iopub.status.busy": "2022-05-14T11:11:45.953063Z",
     "iopub.status.idle": "2022-05-14T11:11:45.964781Z",
     "shell.execute_reply": "2022-05-14T11:11:45.963943Z"
    },
    "id": "tnVsRpLeYCtp",
    "outputId": "90ea07f6-7f02-4fa4-9a4a-2413e211d509",
    "papermill": {
     "duration": 0.049901,
     "end_time": "2022-05-14T11:11:45.966787",
     "exception": false,
     "start_time": "2022-05-14T11:11:45.916886",
     "status": "completed"
    },
    "tags": []
   },
   "outputs": [
    {
     "data": {
      "text/html": [
       "<div>\n",
       "<style scoped>\n",
       "    .dataframe tbody tr th:only-of-type {\n",
       "        vertical-align: middle;\n",
       "    }\n",
       "\n",
       "    .dataframe tbody tr th {\n",
       "        vertical-align: top;\n",
       "    }\n",
       "\n",
       "    .dataframe thead th {\n",
       "        text-align: right;\n",
       "    }\n",
       "</style>\n",
       "<table border=\"1\" class=\"dataframe\">\n",
       "  <thead>\n",
       "    <tr style=\"text-align: right;\">\n",
       "      <th></th>\n",
       "      <th>rank</th>\n",
       "      <th>name</th>\n",
       "      <th>networth</th>\n",
       "      <th>age</th>\n",
       "      <th>country</th>\n",
       "      <th>source</th>\n",
       "      <th>industry</th>\n",
       "    </tr>\n",
       "  </thead>\n",
       "  <tbody>\n",
       "    <tr>\n",
       "      <th>0</th>\n",
       "      <td>1</td>\n",
       "      <td>Elon Musk</td>\n",
       "      <td>219.0</td>\n",
       "      <td>50</td>\n",
       "      <td>United States</td>\n",
       "      <td>Tesla, SpaceX</td>\n",
       "      <td>Automotive</td>\n",
       "    </tr>\n",
       "  </tbody>\n",
       "</table>\n",
       "</div>"
      ],
      "text/plain": [
       "   rank        name  networth  age        country         source     industry\n",
       "0     1  Elon Musk      219.0   50  United States  Tesla, SpaceX  Automotive "
      ]
     },
     "execution_count": 19,
     "metadata": {},
     "output_type": "execute_result"
    }
   ],
   "source": [
    "data.head(1)"
   ]
  },
  {
   "cell_type": "code",
   "execution_count": 20,
   "id": "fc0a76f7",
   "metadata": {
    "execution": {
     "iopub.execute_input": "2022-05-14T11:11:46.036153Z",
     "iopub.status.busy": "2022-05-14T11:11:46.035347Z",
     "iopub.status.idle": "2022-05-14T11:11:46.395825Z",
     "shell.execute_reply": "2022-05-14T11:11:46.394942Z"
    },
    "id": "fI0UYbDsb0nl",
    "outputId": "62e7479a-a2bf-4361-e266-65450915d89c",
    "papermill": {
     "duration": 0.398334,
     "end_time": "2022-05-14T11:11:46.398523",
     "exception": false,
     "start_time": "2022-05-14T11:11:46.000189",
     "status": "completed"
    },
    "tags": []
   },
   "outputs": [
    {
     "data": {
      "image/png": "[encoded data removed]",
      "text/plain": [
       "<Figure size 1440x360 with 1 Axes>"
      ]
     },
     "metadata": {
      "needs_background": "light"
     },
     "output_type": "display_data"
    }
   ],
   "source": [
    "df_us = data[data['country']=='United States']['industry'].value_counts().rename_axis('industry').reset_index(name='United States')\n",
    "df_cn = data[data['country']=='China']['industry'].value_counts().rename_axis('industry').reset_index(name='China')\n",
    "\n",
    "df_us_cn = pd.merge(df_us,df_cn,on = 'industry',how = 'left')\n",
    "\n",
    "\n",
    "ax = df_us_cn[[\"industry\",\"United States\", \"China\"]].plot(x='industry', \n",
    "                                                      kind='bar', \n",
    "                                                      color=[\"b\",\"r\"],\n",
    "                                                      rot=45,\n",
    "                                                      figsize=(20,5),\n",
    "                                                      title = 'What industries do most Amrican and Chinese billionaires do?')\n",
    "ax.legend([\"United States\", \"China\"]);\n",
    "\n"
   ]
  }
 ],
 "metadata": {
  "kernelspec": {
   "display_name": "Python 3",
   "language": "python",
   "name": "python3"
  },
  "language_info": {
   "codemirror_mode": {
    "name": "ipython",
    "version": 3
   },
   "file_extension": ".py",
   "mimetype": "text/x-python",
   "name": "python",
   "nbconvert_exporter": "python",
   "pygments_lexer": "ipython3",
   "version": "3.7.12"
  },
  "papermill": {
   "default_parameters": {},
   "duration": 14.239379,
   "end_time": "2022-05-14T11:11:47.155040",
   "environment_variables": {},
   "exception": null,
   "input_path": "__notebook__.ipynb",
   "output_path": "__notebook__.ipynb",
   "parameters": {},
   "start_time": "2022-05-14T11:11:32.915661",
   "version": "2.3.4"
  }
 },
 "nbformat": 4,
 "nbformat_minor": 5
}
